{
  "nbformat": 4,
  "nbformat_minor": 0,
  "metadata": {
    "colab": {
      "name": "Python_300_1.ipynb",
      "version": "0.3.2",
      "provenance": [],
      "include_colab_link": true
    },
    "kernelspec": {
      "name": "python2",
      "display_name": "Python 2"
    }
  },
  "cells": [
    {
      "cell_type": "markdown",
      "metadata": {
        "id": "view-in-github",
        "colab_type": "text"
      },
      "source": [
        "<a href=\"https://colab.research.google.com/github/s107001897/C/blob/master/Python_300_2.ipynb\" target=\"_parent\"><img src=\"https://colab.research.google.com/assets/colab-badge.svg\" alt=\"Open In Colab\"/></a>"
      ]
    },
    {
      "metadata": {
        "id": "xPAVUsjeysry",
        "colab_type": "code",
        "colab": {
          "base_uri": "https://localhost:8080/",
          "height": 68
        },
        "outputId": "cbf9178f-5f80-436c-b4e5-e09ef575efbb"
      },
      "cell_type": "code",
      "source": [
        "print(\"Welcome to Python\")\n",
        "print(\"Python is fun\")\n",
        "print(\"Problem Driven\")  \n",
        "\n",
        "##4070E060"
      ],
      "execution_count": 5,
      "outputs": [
        {
          "output_type": "stream",
          "text": [
            "Welcome to Python\n",
            "Python is fun\n",
            "Problem Driven\n"
          ],
          "name": "stdout"
        }
      ]
    },
    {
      "metadata": {
        "id": "U68oxY9f0AZs",
        "colab_type": "text"
      },
      "cell_type": "markdown",
      "source": [
        "###chaptter 1\n",
        "WelcomeWithThreeMessages.py"
      ]
    }
  ]
}